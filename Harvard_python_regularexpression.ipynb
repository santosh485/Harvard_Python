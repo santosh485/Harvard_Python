{
  "nbformat": 4,
  "nbformat_minor": 0,
  "metadata": {
    "colab": {
      "provenance": []
    },
    "kernelspec": {
      "name": "python3",
      "display_name": "Python 3"
    },
    "language_info": {
      "name": "python"
    }
  },
  "cells": [
    {
      "cell_type": "code",
      "execution_count": 2,
      "metadata": {
        "colab": {
          "base_uri": "https://localhost:8080/"
        },
        "id": "OLdLzl6vFYuG",
        "outputId": "c374e6bd-ea90-465d-da62-dbeae7d79746"
      },
      "outputs": [
        {
          "output_type": "stream",
          "name": "stdout",
          "text": [
            "What's your email? :@.\n",
            "Valid\n"
          ]
        }
      ],
      "source": [
        "email = input(\"What's your email? :\").strip()\n",
        "if \"@\" in email and \".\" in email:\n",
        "  print(\"Valid\")\n",
        "else:\n",
        "  print(\"Invalid\")"
      ]
    },
    {
      "cell_type": "code",
      "source": [
        "email = input(\"What's your email? :\").strip()\n",
        "\n",
        "username, domain = email.split(\"@\")\n",
        "if username and \".\" in domain:\n",
        "  print(\"Valid\")\n",
        "else:\n",
        "  print(\"Invalide\")"
      ],
      "metadata": {
        "colab": {
          "base_uri": "https://localhost:8080/"
        },
        "id": "G-0ok4lOGC85",
        "outputId": "1b8b1075-1e85-49a0-f968-8d85991d46a8"
      },
      "execution_count": 3,
      "outputs": [
        {
          "output_type": "stream",
          "name": "stdout",
          "text": [
            "What's your email? :@.\n",
            "Invalide\n"
          ]
        }
      ]
    },
    {
      "cell_type": "code",
      "source": [
        "email = input(\"What's your email? :\").strip()\n",
        "\n",
        "username, domain = email.split(\"@\")\n",
        "if username and domain.endswith(\".edu\"):\n",
        "  print(\"Valid\")\n",
        "else:\n",
        "  print(\"Invalide\")"
      ],
      "metadata": {
        "colab": {
          "base_uri": "https://localhost:8080/"
        },
        "id": "T3pe1Yi5GryO",
        "outputId": "d4dae04a-5c48-4ce3-8b07-863cdb7793d4"
      },
      "execution_count": 4,
      "outputs": [
        {
          "output_type": "stream",
          "name": "stdout",
          "text": [
            "What's your email? :santosh@.edu\n",
            "Valid\n"
          ]
        }
      ]
    },
    {
      "cell_type": "code",
      "source": [
        "import re\n",
        "email = input(\"What's your email? :\").strip()\n",
        "\n",
        "if re.search(\"@\", email):\n",
        "  print(\"Valid\")\n",
        "else:\n",
        "  print(\"Invalid\")"
      ],
      "metadata": {
        "colab": {
          "base_uri": "https://localhost:8080/"
        },
        "id": "QLgN_NeHG6Bm",
        "outputId": "680cefed-90f2-47c8-ebfa-5dd448368dd5"
      },
      "execution_count": 5,
      "outputs": [
        {
          "output_type": "stream",
          "name": "stdout",
          "text": [
            "What's your email? :Santosh@.edu\n",
            "Valid\n"
          ]
        }
      ]
    },
    {
      "cell_type": "code",
      "source": [
        "import re\n",
        "email = input(\"What's your email? :\").strip()\n",
        "\n",
        "if re.search(\".+@.+\", email):\n",
        "  print(\"Valid\")\n",
        "else:\n",
        "  print(\"Invalid\")"
      ],
      "metadata": {
        "colab": {
          "base_uri": "https://localhost:8080/"
        },
        "id": "9nJL2nc8HXO8",
        "outputId": "008feb57-9454-4ac8-a9d9-7a144dbd7ded"
      },
      "execution_count": 7,
      "outputs": [
        {
          "output_type": "stream",
          "name": "stdout",
          "text": [
            "What's your email? :malan@\n",
            "Invalid\n"
          ]
        }
      ]
    },
    {
      "cell_type": "code",
      "source": [
        "import re\n",
        "email = input(\"What's your email? :\").strip()\n",
        "\n",
        "if re.search(\".*@.*\", email):\n",
        "  print(\"Valid\")\n",
        "else:\n",
        "  print(\"Invalid\")"
      ],
      "metadata": {
        "colab": {
          "base_uri": "https://localhost:8080/"
        },
        "id": "NWS2g4WtH0yw",
        "outputId": "3a2b4996-17cc-467b-f8a9-1371042e5b0d"
      },
      "execution_count": 8,
      "outputs": [
        {
          "output_type": "stream",
          "name": "stdout",
          "text": [
            "What's your email? :malan@\n",
            "Valid\n"
          ]
        }
      ]
    },
    {
      "cell_type": "code",
      "source": [
        "import re\n",
        "email = input(\"What's your email? :\").strip()\n",
        "\n",
        "if re.search(\"..*@..*\", email):\n",
        "  print(\"Valid\")\n",
        "else:\n",
        "  print(\"Invalid\")"
      ],
      "metadata": {
        "colab": {
          "base_uri": "https://localhost:8080/"
        },
        "id": "fogbWOvwIDR7",
        "outputId": "6a9bf401-4dba-4201-e49e-d95237ac5044"
      },
      "execution_count": 9,
      "outputs": [
        {
          "output_type": "stream",
          "name": "stdout",
          "text": [
            "What's your email? :malan@\n",
            "Invalid\n"
          ]
        }
      ]
    },
    {
      "cell_type": "code",
      "source": [
        "import re\n",
        "email = input(\"What's your email? :\").strip()\n",
        "\n",
        "if re.search(r\".+@.+\\.edu\", email):\n",
        "  print(\"Valid\")\n",
        "else:\n",
        "  print(\"Invalid\")"
      ],
      "metadata": {
        "colab": {
          "base_uri": "https://localhost:8080/"
        },
        "id": "1_c0S3CjIJ4i",
        "outputId": "e2494a95-7b1e-4790-a64a-4139a625d265"
      },
      "execution_count": 13,
      "outputs": [
        {
          "output_type": "stream",
          "name": "stdout",
          "text": [
            "What's your email? :malan@.edu\n",
            "Invalid\n"
          ]
        }
      ]
    },
    {
      "cell_type": "code",
      "source": [
        "import re\n",
        "email = input(\"What's your email? :\").strip()\n",
        "\n",
        "if re.search(r\".+@.+\\.edu\", email):\n",
        "  print(\"Valid\")\n",
        "else:\n",
        "  print(\"Invalid\")"
      ],
      "metadata": {
        "colab": {
          "base_uri": "https://localhost:8080/"
        },
        "id": "6aAVsh1mI_D-",
        "outputId": "3c3abf4f-7b1e-4338-f01f-e88bf398f953"
      },
      "execution_count": 14,
      "outputs": [
        {
          "output_type": "stream",
          "name": "stdout",
          "text": [
            "What's your email? :malan@harvard.edu.\n",
            "Valid\n"
          ]
        }
      ]
    },
    {
      "cell_type": "code",
      "source": [
        "import re\n",
        "email = input(\"What's your email? :\").strip()\n",
        "\n",
        "if re.search(r\"^.+@.+\\.edu$\", email):\n",
        "  print(\"Valid\")\n",
        "else:\n",
        "  print(\"Invalid\")"
      ],
      "metadata": {
        "colab": {
          "base_uri": "https://localhost:8080/"
        },
        "id": "XGMcxASuJznR",
        "outputId": "137c28f1-9718-4e3c-d9cc-62409cda7f73"
      },
      "execution_count": 15,
      "outputs": [
        {
          "output_type": "stream",
          "name": "stdout",
          "text": [
            "What's your email? :malan@harvard.edu\n",
            "Valid\n"
          ]
        }
      ]
    },
    {
      "cell_type": "code",
      "source": [
        "import re\n",
        "email = input(\"What's your email? :\").strip()\n",
        "\n",
        "if re.search(r\"^..*@..*\\.edu$\", email):\n",
        "  print(\"Valid\")\n",
        "else:\n",
        "  print(\"Invalid\")"
      ],
      "metadata": {
        "colab": {
          "base_uri": "https://localhost:8080/"
        },
        "id": "hOCItE9hKHJM",
        "outputId": "5267742c-148d-4e72-83d0-6691ace439db"
      },
      "execution_count": 16,
      "outputs": [
        {
          "output_type": "stream",
          "name": "stdout",
          "text": [
            "What's your email? :harvard@santsoh.edu\n",
            "Valid\n"
          ]
        }
      ]
    },
    {
      "cell_type": "code",
      "source": [
        "import re\n",
        "email = input(\"What's your email? :\").strip()\n",
        "\n",
        "if re.search(r\"^.+@.+\\.edu$\", email):\n",
        "  print(\"Valid\")\n",
        "else:\n",
        "  print(\"Invalid\")"
      ],
      "metadata": {
        "colab": {
          "base_uri": "https://localhost:8080/"
        },
        "id": "dRgjrv8nKiv0",
        "outputId": "cd318669-26eb-4df3-85e2-8d694c229762"
      },
      "execution_count": 17,
      "outputs": [
        {
          "output_type": "stream",
          "name": "stdout",
          "text": [
            "What's your email? :malan@@santosh.edu\n",
            "Valid\n"
          ]
        }
      ]
    },
    {
      "cell_type": "code",
      "source": [
        "import re\n",
        "email = input(\"What's your email? :\").strip()\n",
        "\n",
        "if re.search(r\"^[^@]+@[^a].+\\.edu$\", email):\n",
        "  print(\"Valid\")\n",
        "else:\n",
        "  print(\"Invalid\")"
      ],
      "metadata": {
        "colab": {
          "base_uri": "https://localhost:8080/"
        },
        "id": "GcafQWeyKr1U",
        "outputId": "cb5cc063-44de-4964-9d42-d29a92440a3f"
      },
      "execution_count": 18,
      "outputs": [
        {
          "output_type": "stream",
          "name": "stdout",
          "text": [
            "What's your email? :maalan@@harvard.edu\n",
            "Valid\n"
          ]
        }
      ]
    },
    {
      "cell_type": "code",
      "source": [
        "import re\n",
        "email = input(\"What's your email? :\").strip()\n",
        "\n",
        "if re.search(r\"^[a-zA-Z0-9]+@[a-zA-Z0-9].+\\.edu$\", email):\n",
        "  print(\"Valid\")\n",
        "else:\n",
        "  print(\"Invalid\")"
      ],
      "metadata": {
        "colab": {
          "base_uri": "https://localhost:8080/"
        },
        "id": "1yX0DRqFLBO4",
        "outputId": "8bc7e261-58ba-4d12-ae3a-329ff1cecc0e"
      },
      "execution_count": 19,
      "outputs": [
        {
          "output_type": "stream",
          "name": "stdout",
          "text": [
            "What's your email? :malan@harvard.edu\n",
            "Valid\n"
          ]
        }
      ]
    },
    {
      "cell_type": "code",
      "source": [
        "import re\n",
        "email = input(\"What's your email? :\").strip()\n",
        "\n",
        "if re.search(r\"^\\w+@\\w+\\.edu$\", email):\n",
        "  print(\"Valid\")\n",
        "else:\n",
        "  print(\"Invalid\")"
      ],
      "metadata": {
        "colab": {
          "base_uri": "https://localhost:8080/"
        },
        "id": "SW8YN6HpL2vW",
        "outputId": "46fe9463-83fb-40a0-f77a-3ac27f57907c"
      },
      "execution_count": 21,
      "outputs": [
        {
          "output_type": "stream",
          "name": "stdout",
          "text": [
            "What's your email? :harvard@ram.edu\n",
            "Valid\n"
          ]
        }
      ]
    },
    {
      "cell_type": "code",
      "source": [
        "import re\n",
        "email = input(\"What's your email? :\").strip()\n",
        "\n",
        "if re.search(r\"^\\w+@\\w+\\.edu$\", email, re.IGNORECASE):\n",
        "  print(\"Valid\")\n",
        "else:\n",
        "  print(\"Invalid\")"
      ],
      "metadata": {
        "colab": {
          "base_uri": "https://localhost:8080/"
        },
        "id": "XFCvlXjEMHzQ",
        "outputId": "c42100d1-6bd8-4589-fd14-45c05032b60a"
      },
      "execution_count": 22,
      "outputs": [
        {
          "output_type": "stream",
          "name": "stdout",
          "text": [
            "What's your email? :Harvard@S.edu\n",
            "Valid\n"
          ]
        }
      ]
    },
    {
      "cell_type": "code",
      "source": [
        "import re\n",
        "email = input(\"What's your email? :\").strip()\n",
        "\n",
        "if re.search(r\"^\\w+@\\w+\\.\\.edu$\", email, re.IGNORECASE):\n",
        "  print(\"Valid\")\n",
        "else:\n",
        "  print(\"Invalid\")"
      ],
      "metadata": {
        "colab": {
          "base_uri": "https://localhost:8080/"
        },
        "id": "GbsLNItbNFc8",
        "outputId": "141ddace-a638-4830-a384-14e55c041ef7"
      },
      "execution_count": 23,
      "outputs": [
        {
          "output_type": "stream",
          "name": "stdout",
          "text": [
            "What's your email? :harvard@santosh.edu\n",
            "Invalid\n"
          ]
        }
      ]
    },
    {
      "cell_type": "code",
      "source": [
        "import re\n",
        "email = input(\"What's your email? :\").strip()\n",
        "\n",
        "if re.search(r\"^\\w+@(\\w+.)?\\w+\\.\\.edu$\", email, re.IGNORECASE):\n",
        "  print(\"Valid\")\n",
        "else:\n",
        "  print(\"Invalid\")"
      ],
      "metadata": {
        "colab": {
          "base_uri": "https://localhost:8080/"
        },
        "id": "rT3cmImJPesx",
        "outputId": "95ce7cfd-c8b3-4650-e909-9539787a7071"
      },
      "execution_count": 24,
      "outputs": [
        {
          "output_type": "stream",
          "name": "stdout",
          "text": [
            "What's your email? :Harvard\n",
            "Invalid\n"
          ]
        }
      ]
    },
    {
      "cell_type": "code",
      "source": [
        "import re\n",
        "email = input(\"What's your email? :\").strip()\n",
        "\n",
        "if re.search(r\"^\\w+@(\\w+.)?\\w+\\.\\.edu$\", email, re.IGNORECASE):\n",
        "  print(\"Valid\")\n",
        "else:\n",
        "  print(\"Invalid\")"
      ],
      "metadata": {
        "colab": {
          "base_uri": "https://localhost:8080/"
        },
        "id": "TnXNC2AtPvBF",
        "outputId": "0244b4aa-49d0-492d-f9e0-0843427cf57e"
      },
      "execution_count": 25,
      "outputs": [
        {
          "output_type": "stream",
          "name": "stdout",
          "text": [
            "What's your email? :ram\n",
            "Invalid\n"
          ]
        }
      ]
    },
    {
      "cell_type": "code",
      "source": [
        "name = input(\"What's yr name: \").strip()\n",
        "if \",\" in name:\n",
        "  last, first = name.split(\",\")\n",
        "  name = f\"{first} {last}\"\n",
        "print(f\"hello, {name}\")"
      ],
      "metadata": {
        "colab": {
          "base_uri": "https://localhost:8080/"
        },
        "id": "xblDAp9sQpL-",
        "outputId": "444ed6e6-a06c-477c-a683-f28bed3e1310"
      },
      "execution_count": 28,
      "outputs": [
        {
          "output_type": "stream",
          "name": "stdout",
          "text": [
            "What's yr name: santosh basnet, Jr\n",
            "hello,  Jr santosh basnet\n"
          ]
        }
      ]
    },
    {
      "cell_type": "code",
      "source": [
        "from ast import Name\n",
        "import re\n",
        "name = input(\"What's yr name: \").strip()\n",
        "matches = re.search(r\"^(.+), (.+)$\", name)\n",
        "if matches:\n",
        "  last, first = matches.groups()\n",
        "  name = f\"{first} {last}\"\n",
        "  \n",
        "print(f\"hello, {name}\")"
      ],
      "metadata": {
        "colab": {
          "base_uri": "https://localhost:8080/"
        },
        "id": "Nkey6O3eQ1MT",
        "outputId": "0cdc3cf0-7b72-48d1-95e7-0b17bd2def99"
      },
      "execution_count": 29,
      "outputs": [
        {
          "output_type": "stream",
          "name": "stdout",
          "text": [
            "What's yr name: Santosh Basnet Jr\n",
            "hello, Santosh Basnet Jr\n"
          ]
        }
      ]
    },
    {
      "cell_type": "code",
      "source": [
        "from ast import Name\n",
        "import re\n",
        "name = input(\"What's yr name: \").strip()\n",
        "matches = re.search(r\"^(.+), *(.+)$\", name)\n",
        "if matches:\n",
        "  name = matches.group(2) + \" \" + matches.group(1)\n",
        "  \n",
        "print(f\"hello, {name}\")"
      ],
      "metadata": {
        "colab": {
          "base_uri": "https://localhost:8080/"
        },
        "id": "daRWFHBjSBtL",
        "outputId": "054f3a5c-d977-479e-b869-5a9ff9d06ad1"
      },
      "execution_count": 31,
      "outputs": [
        {
          "output_type": "stream",
          "name": "stdout",
          "text": [
            "What's yr name: Santosh Basnet Jr\n",
            "hello, Santosh Basnet Jr\n"
          ]
        }
      ]
    },
    {
      "cell_type": "code",
      "source": [
        "#twitter\n",
        "import re\n",
        "url = input(\"url\").strip()\n",
        "username = url.replace(\"https://twitter.com/\", \"\")\n",
        "print(f\"username: {username}\")"
      ],
      "metadata": {
        "colab": {
          "base_uri": "https://localhost:8080/"
        },
        "id": "y2d1WsonSNo_",
        "outputId": "6525b1c5-64d4-498c-b0db-a4bf6035931e"
      },
      "execution_count": 33,
      "outputs": [
        {
          "output_type": "stream",
          "name": "stdout",
          "text": [
            "urlhttps://twitter.com/\n",
            "username: \n"
          ]
        }
      ]
    },
    {
      "cell_type": "code",
      "source": [
        "#twitter\n",
        "import re\n",
        "url = input(\"url\").strip()\n",
        "username = url.removeprefix(\"https://twitter.com/\", \"\")\n",
        "print(f\"username: {username}\")"
      ],
      "metadata": {
        "colab": {
          "base_uri": "https://localhost:8080/",
          "height": 235
        },
        "id": "uH7gaq6OTYf0",
        "outputId": "98058060-5f27-42c7-9cd7-cc4cf095ba38"
      },
      "execution_count": 34,
      "outputs": [
        {
          "name": "stdout",
          "output_type": "stream",
          "text": [
            "urlhttps://twitter.com/SantoshBasnet\n"
          ]
        },
        {
          "output_type": "error",
          "ename": "AttributeError",
          "evalue": "ignored",
          "traceback": [
            "\u001b[0;31m---------------------------------------------------------------------------\u001b[0m",
            "\u001b[0;31mAttributeError\u001b[0m                            Traceback (most recent call last)",
            "\u001b[0;32m<ipython-input-34-c67282c5f996>\u001b[0m in \u001b[0;36m<module>\u001b[0;34m\u001b[0m\n\u001b[1;32m      2\u001b[0m \u001b[0;32mimport\u001b[0m \u001b[0mre\u001b[0m\u001b[0;34m\u001b[0m\u001b[0;34m\u001b[0m\u001b[0m\n\u001b[1;32m      3\u001b[0m \u001b[0murl\u001b[0m \u001b[0;34m=\u001b[0m \u001b[0minput\u001b[0m\u001b[0;34m(\u001b[0m\u001b[0;34m\"url\"\u001b[0m\u001b[0;34m)\u001b[0m\u001b[0;34m.\u001b[0m\u001b[0mstrip\u001b[0m\u001b[0;34m(\u001b[0m\u001b[0;34m)\u001b[0m\u001b[0;34m\u001b[0m\u001b[0;34m\u001b[0m\u001b[0m\n\u001b[0;32m----> 4\u001b[0;31m \u001b[0musername\u001b[0m \u001b[0;34m=\u001b[0m \u001b[0murl\u001b[0m\u001b[0;34m.\u001b[0m\u001b[0mremoveprefix\u001b[0m\u001b[0;34m(\u001b[0m\u001b[0;34m\"https://twitter.com/\"\u001b[0m\u001b[0;34m,\u001b[0m \u001b[0;34m\"\"\u001b[0m\u001b[0;34m)\u001b[0m\u001b[0;34m\u001b[0m\u001b[0;34m\u001b[0m\u001b[0m\n\u001b[0m\u001b[1;32m      5\u001b[0m \u001b[0mprint\u001b[0m\u001b[0;34m(\u001b[0m\u001b[0;34mf\"username: {username}\"\u001b[0m\u001b[0;34m)\u001b[0m\u001b[0;34m\u001b[0m\u001b[0;34m\u001b[0m\u001b[0m\n",
            "\u001b[0;31mAttributeError\u001b[0m: 'str' object has no attribute 'removeprefix'"
          ]
        }
      ]
    },
    {
      "cell_type": "code",
      "source": [
        "#twitter\n",
        "import re\n",
        "url = input(\"url\").strip()\n",
        "username = re.sub(r\"https://twitter.com/\",\"\", url)\n",
        "print(f\"username: {username}\")"
      ],
      "metadata": {
        "colab": {
          "base_uri": "https://localhost:8080/"
        },
        "id": "pisxVoRbTpYs",
        "outputId": "7289e02a-fac5-4fcd-f432-aba4132e7264"
      },
      "execution_count": 37,
      "outputs": [
        {
          "output_type": "stream",
          "name": "stdout",
          "text": [
            "urlSantohh\n",
            "username: Santohh\n"
          ]
        }
      ]
    },
    {
      "cell_type": "code",
      "source": [
        "#twitter\n",
        "import re\n",
        "url = input(\"Url\")\n",
        "matches = re.search(r\"^https://(www\\.)?twitter\\.com/(.+)$\", url, re.IGNORECASE)\n",
        "if matches:\n",
        "  print(f\"Usernmae:\", matches.group(1))"
      ],
      "metadata": {
        "colab": {
          "base_uri": "https://localhost:8080/"
        },
        "id": "F9QgLUANUGth",
        "outputId": "03a626a1-c8b9-466d-9c75-c273bcfd08d9"
      },
      "execution_count": 42,
      "outputs": [
        {
          "output_type": "stream",
          "name": "stdout",
          "text": [
            "Urlhttps://twitter.com/santoshbasent\n",
            "Usernmae: None\n"
          ]
        }
      ]
    },
    {
      "cell_type": "code",
      "source": [],
      "metadata": {
        "id": "zkJtWSE4VmCx"
      },
      "execution_count": null,
      "outputs": []
    }
  ]
}